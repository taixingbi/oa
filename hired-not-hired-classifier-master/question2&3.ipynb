{
 "cells": [
  {
   "cell_type": "markdown",
   "metadata": {},
   "source": [
    "# question2"
   ]
  },
  {
   "cell_type": "code",
   "execution_count": 1,
   "metadata": {},
   "outputs": [
    {
     "name": "stderr",
     "output_type": "stream",
     "text": [
      "/Users/h/anaconda3/lib/python3.6/site-packages/h5py/__init__.py:36: FutureWarning: Conversion of the second argument of issubdtype from `float` to `np.floating` is deprecated. In future, it will be treated as `np.float64 == np.dtype(float).type`.\n",
      "  from ._conv import register_converters as _register_converters\n",
      "Using TensorFlow backend.\n"
     ]
    }
   ],
   "source": [
    "import pandas as pd\n",
    "import numpy as np\n",
    "import evaluation\n",
    "from sklearn.metrics import precision_recall_fscore_support\n",
    "from sklearn.metrics import roc_auc_score\n",
    "from xgboost import XGBClassifier\n",
    "from sklearn.svm import LinearSVC\n",
    "from fancyimpute import KNN\n",
    "from sklearn import metrics\n",
    "from sklearn.metrics import confusion_matrix\n",
    "from sklearn.externals import joblib\n",
    "\n",
    "from imblearn.combine import SMOTETomek\n",
    "\n",
    "from sklearn.ensemble import RandomForestClassifier\n",
    "from sklearn import datasets\n",
    "from sklearn.model_selection import train_test_split\n",
    "from sklearn.feature_selection import SelectFromModel\n",
    "from sklearn.metrics import accuracy_score\n",
    "import matplotlib.pyplot as plt"
   ]
  },
  {
   "cell_type": "code",
   "execution_count": 16,
   "metadata": {},
   "outputs": [
    {
     "name": "stdout",
     "output_type": "stream",
     "text": [
      "(100000, 83)\n"
     ]
    },
    {
     "data": {
      "text/html": [
       "<div>\n",
       "<style scoped>\n",
       "    .dataframe tbody tr th:only-of-type {\n",
       "        vertical-align: middle;\n",
       "    }\n",
       "\n",
       "    .dataframe tbody tr th {\n",
       "        vertical-align: top;\n",
       "    }\n",
       "\n",
       "    .dataframe thead th {\n",
       "        text-align: right;\n",
       "    }\n",
       "</style>\n",
       "<table border=\"1\" class=\"dataframe\">\n",
       "  <thead>\n",
       "    <tr style=\"text-align: right;\">\n",
       "      <th></th>\n",
       "      <th>ApplicationStatus</th>\n",
       "      <th>ApplicationType</th>\n",
       "      <th>ApplyDate</th>\n",
       "      <th>CurrentlyEmployed</th>\n",
       "      <th>CurrentlyTrainingPokemon</th>\n",
       "      <th>CurrentlyWorkInThisRegion</th>\n",
       "      <th>GraduateSchoolGPA</th>\n",
       "      <th>GraduateSchoolGraduate</th>\n",
       "      <th>GymBadge1Pokemon</th>\n",
       "      <th>GymBadge2Pokemon</th>\n",
       "      <th>...</th>\n",
       "      <th>TotalYearsOfExp</th>\n",
       "      <th>UndergradSchoolGPA</th>\n",
       "      <th>UndergradSchoolGraduate</th>\n",
       "      <th>WorkedInThisRegion</th>\n",
       "      <th>WorkingForJobAppliedFor</th>\n",
       "      <th>hired</th>\n",
       "      <th>RecentTrainingExperience1</th>\n",
       "      <th>RecentTrainingExperience2</th>\n",
       "      <th>RecentTrainingExperience3</th>\n",
       "      <th>team</th>\n",
       "    </tr>\n",
       "  </thead>\n",
       "  <tbody>\n",
       "    <tr>\n",
       "      <th>0</th>\n",
       "      <td>1.0</td>\n",
       "      <td>1</td>\n",
       "      <td>1</td>\n",
       "      <td>1.0</td>\n",
       "      <td>NaN</td>\n",
       "      <td>1.0</td>\n",
       "      <td>NaN</td>\n",
       "      <td>NaN</td>\n",
       "      <td>NaN</td>\n",
       "      <td>NaN</td>\n",
       "      <td>...</td>\n",
       "      <td>3.0</td>\n",
       "      <td>NaN</td>\n",
       "      <td>NaN</td>\n",
       "      <td>1.0</td>\n",
       "      <td>NaN</td>\n",
       "      <td>0.0</td>\n",
       "      <td>3288.0</td>\n",
       "      <td>NaN</td>\n",
       "      <td>1277.0</td>\n",
       "      <td>1.0</td>\n",
       "    </tr>\n",
       "    <tr>\n",
       "      <th>1</th>\n",
       "      <td>1.0</td>\n",
       "      <td>1</td>\n",
       "      <td>2</td>\n",
       "      <td>2.0</td>\n",
       "      <td>NaN</td>\n",
       "      <td>1.0</td>\n",
       "      <td>NaN</td>\n",
       "      <td>NaN</td>\n",
       "      <td>NaN</td>\n",
       "      <td>NaN</td>\n",
       "      <td>...</td>\n",
       "      <td>5.0</td>\n",
       "      <td>NaN</td>\n",
       "      <td>2.0</td>\n",
       "      <td>1.0</td>\n",
       "      <td>NaN</td>\n",
       "      <td>0.0</td>\n",
       "      <td>122.0</td>\n",
       "      <td>122.0</td>\n",
       "      <td>245.0</td>\n",
       "      <td>1.0</td>\n",
       "    </tr>\n",
       "    <tr>\n",
       "      <th>2</th>\n",
       "      <td>1.0</td>\n",
       "      <td>1</td>\n",
       "      <td>3</td>\n",
       "      <td>NaN</td>\n",
       "      <td>NaN</td>\n",
       "      <td>1.0</td>\n",
       "      <td>NaN</td>\n",
       "      <td>NaN</td>\n",
       "      <td>NaN</td>\n",
       "      <td>NaN</td>\n",
       "      <td>...</td>\n",
       "      <td>5.0</td>\n",
       "      <td>3.0</td>\n",
       "      <td>3.0</td>\n",
       "      <td>1.0</td>\n",
       "      <td>NaN</td>\n",
       "      <td>0.0</td>\n",
       "      <td>NaN</td>\n",
       "      <td>91.0</td>\n",
       "      <td>184.0</td>\n",
       "      <td>1.0</td>\n",
       "    </tr>\n",
       "    <tr>\n",
       "      <th>3</th>\n",
       "      <td>1.0</td>\n",
       "      <td>1</td>\n",
       "      <td>4</td>\n",
       "      <td>2.0</td>\n",
       "      <td>NaN</td>\n",
       "      <td>1.0</td>\n",
       "      <td>NaN</td>\n",
       "      <td>NaN</td>\n",
       "      <td>2.0</td>\n",
       "      <td>NaN</td>\n",
       "      <td>...</td>\n",
       "      <td>1.0</td>\n",
       "      <td>2.4</td>\n",
       "      <td>2.0</td>\n",
       "      <td>1.0</td>\n",
       "      <td>NaN</td>\n",
       "      <td>0.0</td>\n",
       "      <td>1308.0</td>\n",
       "      <td>214.0</td>\n",
       "      <td>762.0</td>\n",
       "      <td>1.0</td>\n",
       "    </tr>\n",
       "    <tr>\n",
       "      <th>4</th>\n",
       "      <td>2.0</td>\n",
       "      <td>1</td>\n",
       "      <td>4</td>\n",
       "      <td>2.0</td>\n",
       "      <td>NaN</td>\n",
       "      <td>1.0</td>\n",
       "      <td>NaN</td>\n",
       "      <td>NaN</td>\n",
       "      <td>NaN</td>\n",
       "      <td>NaN</td>\n",
       "      <td>...</td>\n",
       "      <td>3.0</td>\n",
       "      <td>3.0</td>\n",
       "      <td>2.0</td>\n",
       "      <td>1.0</td>\n",
       "      <td>NaN</td>\n",
       "      <td>NaN</td>\n",
       "      <td>214.0</td>\n",
       "      <td>243.0</td>\n",
       "      <td>213.0</td>\n",
       "      <td>1.0</td>\n",
       "    </tr>\n",
       "  </tbody>\n",
       "</table>\n",
       "<p>5 rows × 83 columns</p>\n",
       "</div>"
      ],
      "text/plain": [
       "   ApplicationStatus  ApplicationType  ApplyDate  CurrentlyEmployed  \\\n",
       "0                1.0                1          1                1.0   \n",
       "1                1.0                1          2                2.0   \n",
       "2                1.0                1          3                NaN   \n",
       "3                1.0                1          4                2.0   \n",
       "4                2.0                1          4                2.0   \n",
       "\n",
       "   CurrentlyTrainingPokemon  CurrentlyWorkInThisRegion  GraduateSchoolGPA  \\\n",
       "0                       NaN                        1.0                NaN   \n",
       "1                       NaN                        1.0                NaN   \n",
       "2                       NaN                        1.0                NaN   \n",
       "3                       NaN                        1.0                NaN   \n",
       "4                       NaN                        1.0                NaN   \n",
       "\n",
       "   GraduateSchoolGraduate  GymBadge1Pokemon  GymBadge2Pokemon  ...   \\\n",
       "0                     NaN               NaN               NaN  ...    \n",
       "1                     NaN               NaN               NaN  ...    \n",
       "2                     NaN               NaN               NaN  ...    \n",
       "3                     NaN               2.0               NaN  ...    \n",
       "4                     NaN               NaN               NaN  ...    \n",
       "\n",
       "   TotalYearsOfExp  UndergradSchoolGPA  UndergradSchoolGraduate  \\\n",
       "0              3.0                 NaN                      NaN   \n",
       "1              5.0                 NaN                      2.0   \n",
       "2              5.0                 3.0                      3.0   \n",
       "3              1.0                 2.4                      2.0   \n",
       "4              3.0                 3.0                      2.0   \n",
       "\n",
       "   WorkedInThisRegion  WorkingForJobAppliedFor  hired  \\\n",
       "0                 1.0                      NaN    0.0   \n",
       "1                 1.0                      NaN    0.0   \n",
       "2                 1.0                      NaN    0.0   \n",
       "3                 1.0                      NaN    0.0   \n",
       "4                 1.0                      NaN    NaN   \n",
       "\n",
       "   RecentTrainingExperience1  RecentTrainingExperience2  \\\n",
       "0                     3288.0                        NaN   \n",
       "1                      122.0                      122.0   \n",
       "2                        NaN                       91.0   \n",
       "3                     1308.0                      214.0   \n",
       "4                      214.0                      243.0   \n",
       "\n",
       "   RecentTrainingExperience3  team  \n",
       "0                     1277.0   1.0  \n",
       "1                      245.0   1.0  \n",
       "2                      184.0   1.0  \n",
       "3                      762.0   1.0  \n",
       "4                      213.0   1.0  \n",
       "\n",
       "[5 rows x 83 columns]"
      ]
     },
     "execution_count": 16,
     "metadata": {},
     "output_type": "execute_result"
    }
   ],
   "source": [
    "def read_csv(path_file_name):\n",
    "    df = pd.read_csv(path_file_name, index_col=False)\n",
    "    return df\n",
    "\n",
    "path_file_name= \"pokemon_trainer_application_data_numerical.csv\" \n",
    "df= read_csv(path_file_name)\n",
    "print(df.shape)\n",
    "df.head()"
   ]
  },
  {
   "cell_type": "markdown",
   "metadata": {},
   "source": [
    "#### *these are not  causal features, which only  related to hire appplican. drop them"
   ]
  },
  {
   "cell_type": "code",
   "execution_count": 17,
   "metadata": {},
   "outputs": [],
   "source": [
    "# these feature is nothing with hired or not, hence delete these feature\n",
    "cols= ['ApplicationStatus',\n",
    "       'JobPostingDate',\n",
    "       'ApplicationType',\n",
    "       'ApplyDate']\n",
    "    \n",
    "for col in cols:\n",
    "    del df[col]"
   ]
  },
  {
   "cell_type": "markdown",
   "metadata": {},
   "source": [
    "#### *missing values\n",
    "listwise deletion: \n",
    "1. delete hired feature without label\n",
    "2. drop columns if over 95% is nan is missing, becuase few info in the colums"
   ]
  },
  {
   "cell_type": "code",
   "execution_count": 18,
   "metadata": {},
   "outputs": [
    {
     "name": "stdout",
     "output_type": "stream",
     "text": [
      "deleted feature: \n",
      "missing values rate: CurrentlyTrainingPokemon 0.9609534784730225 %\n",
      "missing values rate: GraduateSchoolGPA 0.9611818814173441 %\n",
      "missing values rate: GymBadge4Pokemon 0.9818523478784481 %\n",
      "missing values rate: HiredSalaryOffer 0.9867214833733039 %\n",
      "missing values rate: OtherSchoolGPA 0.9622823683308935 %\n"
     ]
    }
   ],
   "source": [
    "# 1. listwise deletion: delete hired feature without label\n",
    "df= df[df['hired'].notnull()]\n",
    "\n",
    "# 2. drop columns if 95% is nan is missing, becuase few info in the colums\n",
    "def drop_col(df, rate_nan):\n",
    "    total_num= df.shape[0]\n",
    "    cols_use= []\n",
    "    print(\"deleted features: \")\n",
    "    for n in df.columns:\n",
    "        num_nan= total_num - len(df[n].dropna())\n",
    "        rate_num_nan= 1.0*num_nan/total_num\n",
    "        #print (n, rate_num_nan)\n",
    "        if rate_num_nan > rate_nan: \n",
    "            print(\"missing values rate:\", n, rate_num_nan, \"%\")\n",
    "        else:\n",
    "            cols_use.append(str(n))\n",
    "            \n",
    "    df= df[cols_use]\n",
    "    return df\n",
    "\n",
    "rate_nan= .95\n",
    "df= drop_col(df, rate_nan)"
   ]
  },
  {
   "cell_type": "markdown",
   "metadata": {},
   "source": [
    "#### *fill missing\n",
    "knn is better, but take a while\n",
    "1. set medium\n",
    "2. use knn set missing values, fill nearest neiborhood"
   ]
  },
  {
   "cell_type": "code",
   "execution_count": 5,
   "metadata": {},
   "outputs": [],
   "source": [
    "def fill_missing(df, cat='mean'):\n",
    "    #set medium\n",
    "    if cat=='mean':  df= df.fillna( df.median() )\n",
    "    #use knn set missing values, find out nearest neiborhood\n",
    "    if cat=='knn':   df= pd.DataFrame(KNN(3).fit_transform(df.as_matrix()))\n",
    "    return df\n",
    "\n",
    "df= fill_missing(df, 'mean')"
   ]
  },
  {
   "cell_type": "markdown",
   "metadata": {},
   "source": [
    "#### *From below, datasets is imlabance"
   ]
  },
  {
   "cell_type": "code",
   "execution_count": 6,
   "metadata": {},
   "outputs": [
    {
     "data": {
      "text/plain": [
       "0.0    94663\n",
       "1.0     1658\n",
       "Name: hired, dtype: int64"
      ]
     },
     "execution_count": 6,
     "metadata": {},
     "output_type": "execute_result"
    },
    {
     "data": {
      "image/png": "[encoded data removed]",
      "text/plain": [
       "<Figure size 432x288 with 1 Axes>"
      ]
     },
     "metadata": {},
     "output_type": "display_data"
    }
   ],
   "source": [
    "def plot_col_bar(feature, num_bar=2):\n",
    "    df[feature].value_counts().nlargest(num_bar).plot(kind='bar', title=feature)\n",
    "\n",
    "plot_col_bar('hired')\n",
    "df['hired'].value_counts()"
   ]
  },
  {
   "cell_type": "code",
   "execution_count": 19,
   "metadata": {},
   "outputs": [
    {
     "name": "stderr",
     "output_type": "stream",
     "text": [
      "/Users/h/anaconda3/lib/python3.6/site-packages/ipykernel_launcher.py:5: FutureWarning: Method .as_matrix will be removed in a future version. Use .values instead.\n",
      "  \"\"\"\n",
      "/Users/h/anaconda3/lib/python3.6/site-packages/ipykernel_launcher.py:6: FutureWarning: Method .as_matrix will be removed in a future version. Use .values instead.\n",
      "  \n"
     ]
    }
   ],
   "source": [
    "def df2array(df):\n",
    "    df_X= df.drop(['hired'], axis=1)\n",
    "    \n",
    "    x_label= df_X.columns.values.tolist()\n",
    "    X= df_X.as_matrix()\n",
    "    y= df['hired'].as_matrix()\n",
    "    return X, x_label, y\n",
    "X, x_label, y= df2array(df)   \n",
    "\n",
    "#print(x_label)"
   ]
  },
  {
   "cell_type": "markdown",
   "metadata": {},
   "source": [
    "#### *handle imbalance datasets \n",
    "Combining SMOTE and Tomek acheive best result\n",
    "1. SMOTE: over-sampling from minority class samples      \n",
    "2. Tomek: under-sampling from majority class samples   "
   ]
  },
  {
   "cell_type": "code",
   "execution_count": 8,
   "metadata": {},
   "outputs": [
    {
     "name": "stdout",
     "output_type": "stream",
     "text": [
      "resapmpling...\n",
      "1.0    94506\n",
      "0.0    94506\n",
      "Name: 0, dtype: int64\n",
      "done\n"
     ]
    }
   ],
   "source": [
    "def resample(X, y):\n",
    "    print('resapmpling...')\n",
    "    smt = SMOTETomek(ratio='auto')\n",
    "    X, y = smt.fit_sample(X, y)\n",
    "\n",
    "    df_SMOTET= pd.DataFrame(y)\n",
    "    print(df_SMOTET[0].value_counts())\n",
    "    print('done')\n",
    "    return X, y\n",
    "\n",
    "X,y= resample(X, y)"
   ]
  },
  {
   "cell_type": "code",
   "execution_count": 9,
   "metadata": {},
   "outputs": [],
   "source": [
    "#split data set\n",
    "X_train, X_test, y_train, y_test = train_test_split(X, y, test_size=0.2, random_state=0)"
   ]
  },
  {
   "cell_type": "markdown",
   "metadata": {},
   "source": [
    "#### *feature selection\n",
    "rondom forest as feature selection is relatively good accuracy, robustness and ease of use, particularly some classification tasks"
   ]
  },
  {
   "cell_type": "code",
   "execution_count": 38,
   "metadata": {},
   "outputs": [
    {
     "name": "stdout",
     "output_type": "stream",
     "text": [
      "feature importance threthold: 0.01\n",
      "--------------------selected feature-------------------\n",
      "TotalYearsOfExp : 0.0963\n",
      "CurrentlyEmployed : 0.0813\n",
      "PokemonTrainerClass : 0.0575\n",
      "JobShiftRotating : 0.0563\n",
      "JobShiftEvening : 0.0537\n",
      "JobShiftWeekend : 0.0482\n",
      "InternalEmployee : 0.0419\n",
      "JobShiftNight : 0.0393\n",
      "JobStatusPartTime : 0.0389\n",
      "UndergradSchoolGraduate : 0.0349\n",
      "HighEduLevelCompleted : 0.0286\n",
      "JobSchedule : 0.0275\n",
      "GymBadgePerm1 : 0.0235\n",
      "WorkingForJobAppliedFor : 0.0216\n",
      "ReferenceRelationship2 : 0.0216\n",
      "ReferenceRelationship1 : 0.0205\n",
      "PokemonWorldRegion : 0.0201\n",
      "JobStatusFlexTime : 0.0191\n",
      "GymCertified : 0.019\n",
      "team : 0.0149\n",
      "JobStatusPerDiem : 0.0145\n",
      "ReferenceRelationship3 : 0.0142\n",
      "PositionForTrainingPokemon : 0.0118\n",
      "JobShiftDay : 0.0112\n",
      "GymBadge1Pokemon : 0.0108\n",
      "RecentTrainingExperience1PayRateEnd : 0.0105\n",
      "RecentTrainingExperience1Pokemon : 0.0104\n",
      "\n",
      "--------------------dropped feature-------------------\n",
      "JobStatusFullTime : 0.0092\n",
      "RecentTrainingExperience1 : 0.0087\n",
      "RecentTrainingExperience1EmploymentStatus : 0.0084\n",
      "GymBadgePerm2 : 0.0084\n",
      "RecentTrainingExperience2 : 0.008\n",
      "RecentTrainingExperienceContactForRefYes : 0.0079\n",
      "JobStatusTemp : 0.0079\n",
      "RecentTrainingExperience3 : 0.0065\n",
      "RecentTrainingExperience2Pokemon : 0.0062\n",
      "SpokenWithCurrentBoss : 0.0057\n",
      "RecentTrainingExperience2PayRateEnd : 0.0056\n",
      "RecentTrainingExperience2EmploymentStatus : 0.0048\n",
      "WorkedInThisRegion : 0.0042\n",
      "RecentTrainingExperience3Pokemon : 0.0041\n",
      "RecentTrainingExperience3PayRateEnd : 0.0041\n",
      "RecentTrainingExperience1ContactForRef : 0.0038\n",
      "LastPerformaceRating : 0.0038\n",
      "HighSchoolGPA : 0.0035\n",
      "GymBadge2Pokemon : 0.0034\n",
      "UndergradSchoolGPA : 0.0031\n",
      "RecentTrainingExperienceContactForRefNA : 0.0028\n",
      "RecentTrainingExperience3EmploymentStatus : 0.0027\n",
      "CurrentlyWorkInThisRegion : 0.0025\n",
      "RecentTrainingExperience4From : 0.0021\n",
      "GymBadgePerm3 : 0.0021\n",
      "RecentTrainingExperience4To : 0.002\n",
      "GymBadge3Pokemon : 0.0019\n",
      "RecentTrainingExperience4PayRateEnd : 0.0018\n",
      "GymBadgeTemp1 : 0.0017\n",
      "GraduateSchoolGraduate : 0.0015\n",
      "TechnicalSchoolGPA : 0.0014\n",
      "RecentTrainingExperience4EmploymentStatus : 0.0014\n",
      "RecentTrainingExperience4Pokemon : 0.0014\n",
      "RecentTrainingExperienceContactForRefPostHire : 0.0012\n",
      "TechnicalSchoolGraduate : 0.0011\n",
      "RecentTrainingExperience2ContactForRef : 0.001\n",
      "HighSchoolGraduate : 0.0009\n",
      "GymBadgeTemp2 : 0.0009\n",
      "GymBadgePerm4 : 0.0009\n",
      "RecentTrainingExperience3ContactForRef : 0.0008\n",
      "GymBadgeTemp3 : 0.0006\n",
      "GymBadgeTemp4 : 0.0005\n",
      "OtherSchoolGraduate : 0.0005\n",
      "RecentTrainingExperience4ContactForRef : 0.0004\n",
      "RecentTrainingExperienceContactForRefNo : 0.0003\n",
      "GymCertificationEverSuspended : 0.0001\n"
     ]
    }
   ],
   "source": [
    "def rank_feature(feature_threshold):\n",
    "    print(\"feature importance threthold:\", feature_threshold)\n",
    "    n_estimators= 1000\n",
    "    clf = RandomForestClassifier(n_estimators=n_estimators, random_state=0, n_jobs=-1,class_weight=\"balanced\")#10000\n",
    "    clf.fit(X_train, y_train)\n",
    "    \n",
    "    #y_pred = clf.predict(X_test)\n",
    "    #print( \"full feature accuracy: \", accuracy_score(y_test, y_pred) )\n",
    "    \n",
    "    r= list(clf.feature_importances_)\n",
    "    rank= [ (r[i], x_label[i]) for i in range(len(r))]\n",
    "    rank.sort(reverse=True)\n",
    "    print(\"--------------------selected feature-------------------\")\n",
    "    for rk in rank: \n",
    "        if rk[0] >= feature_threshold:    print (rk[1], \":\", round(rk[0],4) )\n",
    "            \n",
    "    print(\"\\n--------------------dropped feature-------------------\")            \n",
    "    for rk in rank: \n",
    "        if rk[0] < feature_threshold:    print (rk[1], \":\", round(rk[0],4) )            \n",
    "    \n",
    "    sfm = SelectFromModel(clf, threshold= feature_threshold)\n",
    "    sfm.fit(X_train, y_train)\n",
    "\n",
    "    X_important_train = sfm.transform(X_train)\n",
    "    X_important_test = sfm.transform(X_test) \n",
    "    \n",
    "    return X_important_train, X_important_test\n",
    "\n",
    "X_important_train, X_important_test= rank_feature(0.01)"
   ]
  },
  {
   "cell_type": "markdown",
   "metadata": {},
   "source": [
    "#### *hired prediction\n",
    "1. random_forest\n",
    "2. XGBoost"
   ]
  },
  {
   "cell_type": "code",
   "execution_count": 39,
   "metadata": {},
   "outputs": [
    {
     "name": "stdout",
     "output_type": "stream",
     "text": [
      "important feature training\n",
      "------------------random forest------------------\n",
      "accuracy: 99.11%\n",
      "precision: 99.73%\n",
      "recall: 98.50%\n",
      "fscore: 99.11%\n",
      "Confusion matrix:\n",
      " [[18671    50]\n",
      " [  285 18797]]\n"
     ]
    },
    {
     "data": {
      "image/png": "[encoded data removed]",
      "text/plain": [
       "<Figure size 432x288 with 2 Axes>"
      ]
     },
     "metadata": {},
     "output_type": "display_data"
    },
    {
     "name": "stdout",
     "output_type": "stream",
     "text": [
      "rocauc score: 99.72%\n"
     ]
    },
    {
     "data": {
      "image/png": "[encoded data removed]",
      "text/plain": [
       "<Figure size 432x288 with 1 Axes>"
      ]
     },
     "metadata": {},
     "output_type": "display_data"
    },
    {
     "name": "stdout",
     "output_type": "stream",
     "text": [
      "------------------XGBoost------------------\n"
     ]
    },
    {
     "name": "stderr",
     "output_type": "stream",
     "text": [
      "/Users/h/anaconda3/lib/python3.6/site-packages/sklearn/preprocessing/label.py:151: DeprecationWarning: The truth value of an empty array is ambiguous. Returning False, but in future this will result in an error. Use `array.size > 0` to check that an array is not empty.\n",
      "  if diff:\n"
     ]
    },
    {
     "name": "stdout",
     "output_type": "stream",
     "text": [
      "accuracy: 98.34%\n",
      "precision: 98.69%\n",
      "recall: 97.98%\n",
      "fscore: 98.33%\n",
      "Confusion matrix:\n",
      " [[18475   246]\n",
      " [  381 18701]]\n"
     ]
    },
    {
     "data": {
      "image/png": "[encoded data removed]",
      "text/plain": [
       "<Figure size 432x288 with 2 Axes>"
      ]
     },
     "metadata": {},
     "output_type": "display_data"
    },
    {
     "name": "stdout",
     "output_type": "stream",
     "text": [
      "rocauc score: 99.66%\n"
     ]
    },
    {
     "data": {
      "image/png": "[encoded data removed]",
      "text/plain": [
       "<Figure size 432x288 with 1 Axes>"
      ]
     },
     "metadata": {},
     "output_type": "display_data"
    },
    {
     "data": {
      "text/plain": [
       "XGBClassifier(base_score=0.5, booster='gbtree', colsample_bylevel=1,\n",
       "       colsample_bytree=1, gamma=0, learning_rate=0.1, max_delta_step=0,\n",
       "       max_depth=3, min_child_weight=1, missing=None, n_estimators=100,\n",
       "       n_jobs=1, nthread=None, objective='binary:logistic', random_state=0,\n",
       "       reg_alpha=0, reg_lambda=1, scale_pos_weight=1, seed=None,\n",
       "       silent=True, subsample=1)"
      ]
     },
     "execution_count": 39,
     "metadata": {},
     "output_type": "execute_result"
    }
   ],
   "source": [
    "def predict(X_train, X_test, type_model): \n",
    "    if type_model == \"random_forest\":\n",
    "        print(\"------------------random forest------------------\")\n",
    "        n_estimators=1000 #10000, roc_auc_score= 0.8\n",
    "        model = RandomForestClassifier(n_estimators=n_estimators, random_state=0, n_jobs=-1, class_weight=\"balanced\")#10000\n",
    "    if type_model == \"XGBoost\":\n",
    "        print(\"------------------XGBoost------------------\")\n",
    "        model = XGBClassifier()\n",
    "\n",
    "    model.fit(X_train, y_train)\n",
    "    y_pred = model.predict(X_test) #The Full Featured\n",
    "    prob_y_pred = model.predict_proba(X_test)\n",
    "    prob_y_pred = [p[1] for p in prob_y_pred]    \n",
    "    \n",
    "    evaluation.binary_classification_metrics(y_test, y_pred, 'not hired', 'hired')    \n",
    "    evaluation.rocauc(y_test, prob_y_pred)\n",
    "\n",
    "    joblib.dump(model, 'model_saved.joblib')   \n",
    "    return model\n",
    "\n",
    "random_forest= \"random_forest\"\n",
    "XGBoost= \"XGBoost\"\n",
    "\n",
    "\"\"\"\n",
    "print(\"all features training\")\n",
    "predict(X_train, X_test, random_forest)\n",
    "predict(X_train, X_test, XGBoost)\n",
    "\"\"\"\n",
    "print(\"important feature training\")\n",
    "predict(X_important_train, X_important_test, random_forest)\n",
    "predict(X_important_train, X_important_test, XGBoost)"
   ]
  },
  {
   "cell_type": "markdown",
   "metadata": {},
   "source": [
    "# question 3\n",
    "use datasets train the random foerest model and use model to predict new data.   \n",
    "step1: save model after training     \n",
    "step2: load trained model     \n",
    "step3: use trained model to predict new data       "
   ]
  },
  {
   "cell_type": "code",
   "execution_count": 41,
   "metadata": {},
   "outputs": [
    {
     "name": "stderr",
     "output_type": "stream",
     "text": [
      "/Users/h/anaconda3/lib/python3.6/site-packages/sklearn/preprocessing/label.py:151: DeprecationWarning: The truth value of an empty array is ambiguous. Returning False, but in future this will result in an error. Use `array.size > 0` to check that an array is not empty.\n",
      "  if diff:\n"
     ]
    },
    {
     "data": {
      "text/plain": [
       "1.0"
      ]
     },
     "execution_count": 41,
     "metadata": {},
     "output_type": "execute_result"
    }
   ],
   "source": [
    "model = joblib.load('model_saved.joblib') \n",
    "one_sample= [X_important_test[0],]\n",
    "predict= model.predict(one_sample)\n",
    "predict[0]"
   ]
  },
  {
   "cell_type": "code",
   "execution_count": null,
   "metadata": {},
   "outputs": [],
   "source": []
  },
  {
   "cell_type": "code",
   "execution_count": null,
   "metadata": {},
   "outputs": [],
   "source": []
  },
  {
   "cell_type": "code",
   "execution_count": null,
   "metadata": {},
   "outputs": [],
   "source": []
  },
  {
   "cell_type": "code",
   "execution_count": null,
   "metadata": {},
   "outputs": [],
   "source": []
  },
  {
   "cell_type": "code",
   "execution_count": null,
   "metadata": {},
   "outputs": [],
   "source": []
  }
 ],
 "metadata": {
  "kernelspec": {
   "display_name": "Python 3",
   "language": "python",
   "name": "python3"
  },
  "language_info": {
   "codemirror_mode": {
    "name": "ipython",
    "version": 3
   },
   "file_extension": ".py",
   "mimetype": "text/x-python",
   "name": "python",
   "nbconvert_exporter": "python",
   "pygments_lexer": "ipython3",
   "version": "3.6.5"
  }
 },
 "nbformat": 4,
 "nbformat_minor": 2
}
